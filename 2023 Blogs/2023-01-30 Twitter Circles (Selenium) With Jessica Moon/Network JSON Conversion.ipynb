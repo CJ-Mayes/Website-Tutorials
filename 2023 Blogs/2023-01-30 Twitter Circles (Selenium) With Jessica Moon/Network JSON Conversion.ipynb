import pandas as pd
import json

node_list=[]
link_list=[]
unique_nodes=[]
df = pd.read_csv('TwitterCircle.csv')
df.columns = [c.replace(' ', '_') for c in df.columns]
for item in df.itertuples():
    to_node=item.Circle_Person
    fro_node=item.My_Circle
    if to_node not in unique_nodes:
        unique_nodes.append(to_node)
        dict_node={"id":to_node}
        node_list.append(dict_node)
    if fro_node not in unique_nodes:
        unique_nodes.append(fro_node)
        dict_node={"id":fro_node}
        node_list.append(dict_node)
    dict_link={"source":fro_node, "target":to_node}
    link_list.append(dict_link)

final_dictionary={"nodes":node_list, "links": link_list}
json_object = json.dumps(final_dictionary, indent = 1) 

with open("Circle2.json", "w") as outfile:
    outfile.write(json_object)
