{
 "cells": [
  {
   "cell_type": "code",
   "execution_count": 8,
   "id": "103105b0",
   "metadata": {},
   "outputs": [],
   "source": [
    "import pandas as pd\n",
    "import json\n",
    "\n",
    "node_list=[]\n",
    "link_list=[]\n",
    "unique_nodes=[]\n",
    "df = pd.read_csv('TwitterCircle.csv')\n",
    "df.columns = [c.replace(' ', '_') for c in df.columns]\n",
    "for item in df.itertuples():\n",
    "    to_node=item.Circle_Person\n",
    "    fro_node=item.My_Circle\n",
    "    if to_node not in unique_nodes:\n",
    "        unique_nodes.append(to_node)\n",
    "        dict_node={\"id\":to_node}\n",
    "        node_list.append(dict_node)\n",
    "    if fro_node not in unique_nodes:\n",
    "        unique_nodes.append(fro_node)\n",
    "        dict_node={\"id\":fro_node}\n",
    "        node_list.append(dict_node)\n",
    "    dict_link={\"source\":fro_node, \"target\":to_node}\n",
    "    link_list.append(dict_link)\n",
    "\n",
    "final_dictionary={\"nodes\":node_list, \"links\": link_list}\n",
    "json_object = json.dumps(final_dictionary, indent = 1) \n",
    "\n",
    "with open(\"Circle2.json\", \"w\") as outfile:\n",
    "    outfile.write(json_object)"
   ]
  },
  {
   "cell_type": "code",
   "execution_count": 2,
   "id": "2cd388f2",
   "metadata": {},
   "outputs": [
    {
     "ename": "SyntaxError",
     "evalue": "invalid syntax (Temp/ipykernel_27288/210107365.py, line 2)",
     "output_type": "error",
     "traceback": [
      "\u001b[1;36m  File \u001b[1;32m\"C:\\Users\\jessi\\AppData\\Local\\Temp/ipykernel_27288/210107365.py\"\u001b[1;36m, line \u001b[1;32m2\u001b[0m\n\u001b[1;33m    to_node=Circle Person\u001b[0m\n\u001b[1;37m                   ^\u001b[0m\n\u001b[1;31mSyntaxError\u001b[0m\u001b[1;31m:\u001b[0m invalid syntax\n"
     ]
    }
   ],
   "source": []
  },
  {
   "cell_type": "code",
   "execution_count": null,
   "id": "bac521b0",
   "metadata": {},
   "outputs": [],
   "source": []
  }
 ],
 "metadata": {
  "kernelspec": {
   "display_name": "Python 3 (ipykernel)",
   "language": "python",
   "name": "python3"
  },
  "language_info": {
   "codemirror_mode": {
    "name": "ipython",
    "version": 3
   },
   "file_extension": ".py",
   "mimetype": "text/x-python",
   "name": "python",
   "nbconvert_exporter": "python",
   "pygments_lexer": "ipython3",
   "version": "3.9.7"
  }
 },
 "nbformat": 4,
 "nbformat_minor": 5
}
